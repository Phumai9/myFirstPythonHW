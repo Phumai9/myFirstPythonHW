{
 "cells": [
  {
   "cell_type": "markdown",
   "metadata": {},
   "source": [
    "# Python Practice book 30-40"
   ]
  },
  {
   "cell_type": "markdown",
   "metadata": {},
   "source": [
    "Phumai Boonchuaisuk, 7 oct 2020."
   ]
  },
  {
   "cell_type": "markdown",
   "metadata": {},
   "source": [
    "Problem 31"
   ]
  },
  {
   "cell_type": "code",
   "execution_count": 18,
   "metadata": {},
   "outputs": [
    {
     "data": {
      "text/plain": [
       "[[1, 2, 3], [4, 5, 6], [7, 8, 9]]"
      ]
     },
     "execution_count": 18,
     "metadata": {},
     "output_type": "execute_result"
    }
   ],
   "source": [
    "def group(List,size):\n",
    "    x = []\n",
    "    while List != []:\n",
    "        x += [List[:size]]\n",
    "        List = List[size:]\n",
    "    return(x)\n",
    "group([1,2,3,4,5,6,7,8,9],3)"
   ]
  },
  {
   "cell_type": "code",
   "execution_count": 3,
   "metadata": {},
   "outputs": [
    {
     "data": {
      "text/plain": [
       "[[1, 2, 3, 4], [5, 6, 7, 8], [9]]"
      ]
     },
     "execution_count": 3,
     "metadata": {},
     "output_type": "execute_result"
    }
   ],
   "source": [
    "group([1, 2, 3, 4, 5, 6, 7, 8, 9], 4)"
   ]
  },
  {
   "cell_type": "markdown",
   "metadata": {},
   "source": [
    "Problem 32"
   ]
  },
  {
   "cell_type": "code",
   "execution_count": 19,
   "metadata": {},
   "outputs": [
    {
     "data": {
      "text/plain": [
       "['c', 'java', 'perl', 'ruby', 'python', 'haskell']"
      ]
     },
     "execution_count": 19,
     "metadata": {},
     "output_type": "execute_result"
    }
   ],
   "source": [
    "def lensort(names):\n",
    "    return[e for [i,e] in sorted([[len(e),e] for e in names])]\n",
    "\n",
    "lensort([\"python\",\"perl\",\"java\",\"c\",\"haskell\",\"ruby\"])"
   ]
  },
  {
   "cell_type": "markdown",
   "metadata": {},
   "source": [
    "Problem 33"
   ]
  },
  {
   "cell_type": "code",
   "execution_count": 21,
   "metadata": {},
   "outputs": [
    {
     "data": {
      "text/plain": [
       "['python', 'java']"
      ]
     },
     "execution_count": 21,
     "metadata": {},
     "output_type": "execute_result"
    }
   ],
   "source": [
    "def unique(List,key = lambda s: s):\n",
    "    b1 ,b2 = [key(e) for e in List] ,[]\n",
    "    while b1 != []:\n",
    "        b2 += [b1.pop(0)]\n",
    "        while b2[-1] in b1 : b1.remove(b2[-1])\n",
    "    return b2\n",
    "\n",
    "unique([\"python\" ,\"java\" ,\"Python\" ,\"Java\"] ,key = lambda s: s.lower())\n",
    "        "
   ]
  },
  {
   "cell_type": "markdown",
   "metadata": {},
   "source": [
    "Problem 34"
   ]
  },
  {
   "cell_type": "code",
   "execution_count": 22,
   "metadata": {},
   "outputs": [
    {
     "data": {
      "text/plain": [
       "[1, 2, 3, 5]"
      ]
     },
     "execution_count": 22,
     "metadata": {},
     "output_type": "execute_result"
    }
   ],
   "source": [
    "def unique(List):\n",
    "    return list(set(List))\n",
    "\n",
    "unique([1, 2, 1, 3, 2, 5])"
   ]
  },
  {
   "cell_type": "markdown",
   "metadata": {},
   "source": [
    "Problem 35"
   ]
  },
  {
   "cell_type": "code",
   "execution_count": 23,
   "metadata": {},
   "outputs": [
    {
     "data": {
      "text/plain": [
       "['a.c', 'x.c', 'a.py', 'b.py', 'bar.txt', 'foo.txt']"
      ]
     },
     "execution_count": 23,
     "metadata": {},
     "output_type": "execute_result"
    }
   ],
   "source": [
    "def extsort(List):\n",
    "    return ['.'.join(e) for e in sorted([e.split('.') for e in List],key=lambda s: s[1])]\n",
    "\n",
    "extsort(['a.c', 'a.py', 'b.py', 'bar.txt', 'foo.txt', 'x.c']) "
   ]
  },
  {
   "cell_type": "markdown",
   "metadata": {},
   "source": [
    "Problem 36"
   ]
  },
  {
   "cell_type": "code",
   "execution_count": 28,
   "metadata": {},
   "outputs": [
    {
     "name": "stdout",
     "output_type": "stream",
     "text": [
      ";erohsaes eht no sllehsaes slles ehS\n",
      ".erus m'I sllehsaes era slles ehs taht sllehs ehT\n",
      ",erohsaes eht no sllehsaes slles ehs fi oS\n",
      ".sllehs erohsaes era sllehs eht taht erus m'I\n"
     ]
    }
   ],
   "source": [
    "def linecount(filename):\n",
    "    return len(open(filename).readlines())\n",
    "\n",
    "def reverse(filename):\n",
    "    line = open(filename).readlines()\n",
    "    print(''.join(line[::-1]))\n",
    "    \n",
    "reverse37('she.txt')"
   ]
  },
  {
   "cell_type": "markdown",
   "metadata": {},
   "source": [
    "Problem 37"
   ]
  },
  {
   "cell_type": "code",
   "execution_count": 29,
   "metadata": {},
   "outputs": [
    {
     "name": "stdout",
     "output_type": "stream",
     "text": [
      ";erohsaes eht no sllehsaes slles ehS\n",
      ".erus m'I sllehsaes era slles ehs taht sllehs ehT\n",
      ",erohsaes eht no sllehsaes slles ehs fi oS\n",
      ".sllehs erohsaes era sllehs eht taht erus m'I\n"
     ]
    }
   ],
   "source": [
    "def reverse37(filename):\n",
    "    line = open(filename).readlines()\n",
    "    for e in line:\n",
    "        print(e.strip()[::-1])\n",
    "\n",
    "reverse37('she.txt')"
   ]
  },
  {
   "cell_type": "markdown",
   "metadata": {},
   "source": [
    "Problem 38"
   ]
  },
  {
   "cell_type": "code",
   "execution_count": 57,
   "metadata": {
    "scrolled": true
   },
   "outputs": [
    {
     "name": "stdout",
     "output_type": "stream",
     "text": [
      "Head\n",
      "She sells seashells on the seashore;\n",
      "The shells that she sells are seashells I'm sure.\n",
      "So if she sells seashells on the seashore,\n",
      "I'm sure that the shells are seashore shells.\n",
      "\n",
      "\n",
      "Tail\n",
      "She sells seashells on the seashore;\n",
      "The shells that she sells are seashells I'm sure.\n",
      "So if she sells seashells on the seashore,\n",
      "I'm sure that the shells are seashore shells.\n"
     ]
    }
   ],
   "source": [
    "print(\"Head\")\n",
    "line = open('she.txt').readlines()\n",
    "print(''.join(line[:10]))\n",
    "\n",
    "print(\"\\n\")\n",
    "\n",
    "print(\"Tail\")\n",
    "line = open('she.txt').readlines()\n",
    "print(''.join(line[-10:]))"
   ]
  },
  {
   "cell_type": "markdown",
   "metadata": {},
   "source": [
    "Problem 39"
   ]
  },
  {
   "cell_type": "code",
   "execution_count": 51,
   "metadata": {},
   "outputs": [
    {
     "name": "stdout",
     "output_type": "stream",
     "text": [
      "she.txt she\n",
      "She sells seashells on the seashore;\n",
      "The shells that she sells are seashells I'm sure.\n",
      "So if she sells seashells on the seashore,\n",
      "I'm sure that the shells are seashore shells.\n"
     ]
    }
   ],
   "source": [
    "file,text=[i for i in input().split()]\n",
    "for line in open(file):\n",
    "    if(text in line):\n",
    "        print(line.strip())"
   ]
  },
  {
   "cell_type": "markdown",
   "metadata": {},
   "source": [
    "Problem 40"
   ]
  },
  {
   "cell_type": "code",
   "execution_count": 52,
   "metadata": {},
   "outputs": [
    {
     "name": "stdout",
     "output_type": "stream",
     "text": [
      "she.txt 20\n",
      "She sells seashells\n",
      "on the seashore;\n",
      "The shells that she\n",
      "sells are seashells\n",
      "I'm sure.\n",
      "So if she sells seas\n",
      "hells on the seashor\n",
      "e,\n",
      "I'm sure that the sh\n",
      "ells are seashore sh\n",
      "ells.\n"
     ]
    }
   ],
   "source": [
    "file,size=[i for i in input().split()]\n",
    "for line in open(file):\n",
    "    [print(line[i:i+int(size)].strip())for i in range(0,len(line),int(size))]"
   ]
  },
  {
   "cell_type": "code",
   "execution_count": null,
   "metadata": {},
   "outputs": [],
   "source": []
  }
 ],
 "metadata": {
  "kernelspec": {
   "display_name": "Python 3",
   "language": "python",
   "name": "python3"
  },
  "language_info": {
   "codemirror_mode": {
    "name": "ipython",
    "version": 3
   },
   "file_extension": ".py",
   "mimetype": "text/x-python",
   "name": "python",
   "nbconvert_exporter": "python",
   "pygments_lexer": "ipython3",
   "version": "3.8.5"
  }
 },
 "nbformat": 4,
 "nbformat_minor": 4
}
