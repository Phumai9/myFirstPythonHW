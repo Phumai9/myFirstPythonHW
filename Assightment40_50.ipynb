{
 "cells": [
  {
   "cell_type": "markdown",
   "metadata": {},
   "source": [
    "# Python Practice book 40-50"
   ]
  },
  {
   "cell_type": "markdown",
   "metadata": {},
   "source": [
    "Phumai Boonchuaisuk, 9 oct 2020."
   ]
  },
  {
   "cell_type": "markdown",
   "metadata": {},
   "source": [
    "Problem 41"
   ]
  },
  {
   "cell_type": "code",
   "execution_count": 43,
   "metadata": {},
   "outputs": [
    {
     "name": "stdout",
     "output_type": "stream",
     "text": [
      "She sells seashells on the\n",
      "seashore;\n",
      "The shells that she sells\n",
      "sells are seashells I'm sure.\n",
      "sure.\n",
      "So if she sells seashells\n",
      "seashells on the seashore,\n",
      "seashore,\n",
      "I'm sure that the shells\n",
      "shells are seashore shells.\n",
      "shells.\n"
     ]
    }
   ],
   "source": [
    "import sys\n",
    "# f= sys.argv[1]\n",
    "#c = int(sys.argv[2])\n",
    "f = 'she.txt'\n",
    "c = int('30')\n",
    "\n",
    "line = open(f).readlines()\n",
    "for e in line:\n",
    "    e,a = e.split(),0\n",
    "    for i in e:\n",
    "        if a == 0 :\n",
    "            a += len(i)\n",
    "            print(i,end='')\n",
    "        elif a > 0 and a + len(i) < c:\n",
    "            a += len(i)+1\n",
    "            print(' '+i,end='')\n",
    "        if a + len(i) >= c:\n",
    "            print('\\n'+i,end='')\n",
    "            a = len(i)\n",
    "    print()"
   ]
  },
  {
   "cell_type": "markdown",
   "metadata": {},
   "source": [
    "Problem 42"
   ]
  },
  {
   "cell_type": "code",
   "execution_count": 40,
   "metadata": {},
   "outputs": [
    {
     "name": "stdout",
     "output_type": "stream",
     "text": [
      "                       She sells seashells on the seashore;\n",
      "                The shells that she sells are seashells I'm sure.\n",
      "                    So if she sells seashells on the seashore,\n",
      "                   I'm sure that the shells are seashore shells."
     ]
    }
   ],
   "source": [
    "import sys\n",
    "# f = sys.argv[1]\n",
    "f = 'she.txt'\n",
    "lines = open(f).readlines()\n",
    "for e in lines:\n",
    "    print(' '*(40-len(e)//2),e,end='')"
   ]
  },
  {
   "cell_type": "markdown",
   "metadata": {},
   "source": [
    "Problem 43"
   ]
  },
  {
   "cell_type": "code",
   "execution_count": 7,
   "metadata": {},
   "outputs": [
    {
     "data": {
      "text/plain": [
       "[[1, 'a'], [2, 'b'], [3, 'c']]"
      ]
     },
     "execution_count": 7,
     "metadata": {},
     "output_type": "execute_result"
    }
   ],
   "source": [
    "def izip(a,b):\n",
    "    return [[a[i],b[i]] for i in range(len(a))]\n",
    "\n",
    "izip([1, 2, 3], [\"a\", \"b\", \"c\"])"
   ]
  },
  {
   "cell_type": "markdown",
   "metadata": {},
   "source": [
    "Problem 44"
   ]
  },
  {
   "cell_type": "code",
   "execution_count": 37,
   "metadata": {},
   "outputs": [
    {
     "data": {
      "text/plain": [
       "[0, 1, 4, 9, 16]"
      ]
     },
     "execution_count": 37,
     "metadata": {},
     "output_type": "execute_result"
    }
   ],
   "source": [
    "def myMap(f,l):\n",
    "    return [f(i) for i in l]\n",
    "\n",
    "def square(x): \n",
    "    return x * x\n",
    "\n",
    "myMap(square, range(5))  "
   ]
  },
  {
   "cell_type": "markdown",
   "metadata": {},
   "source": [
    "Problem 45"
   ]
  },
  {
   "cell_type": "code",
   "execution_count": 38,
   "metadata": {},
   "outputs": [
    {
     "data": {
      "text/plain": [
       "[0, 2, 4, 6, 8]"
      ]
     },
     "execution_count": 38,
     "metadata": {},
     "output_type": "execute_result"
    }
   ],
   "source": [
    "def filter1(f,l):\n",
    "    return [e for e in l if f(e)]\n",
    "\n",
    "def even(x): \n",
    "    return x %2 == 0\n",
    "\n",
    "filter1(even, range(10))"
   ]
  },
  {
   "cell_type": "markdown",
   "metadata": {},
   "source": [
    "Problem 46"
   ]
  },
  {
   "cell_type": "code",
   "execution_count": 12,
   "metadata": {},
   "outputs": [
    {
     "data": {
      "text/plain": [
       "[(1, 1, 2), (1, 2, 3), (1, 3, 4), (1, 4, 5), (2, 2, 4), (2, 3, 5)]"
      ]
     },
     "execution_count": 12,
     "metadata": {},
     "output_type": "execute_result"
    }
   ],
   "source": [
    "def triplets(n):\n",
    "    return [(x,y,z) for x in range(1,n) for y in range(x,n) for z in range(y,n) if x+y==z]\n",
    "\n",
    "triplets(6)"
   ]
  },
  {
   "cell_type": "markdown",
   "metadata": {},
   "source": [
    "Problem 47"
   ]
  },
  {
   "cell_type": "code",
   "execution_count": 14,
   "metadata": {},
   "outputs": [
    {
     "name": "stdout",
     "output_type": "stream",
     "text": [
      "0 a\n",
      "1 b\n",
      "2 c\n"
     ]
    }
   ],
   "source": [
    "def myEnumerate(l):\n",
    "    return [(i,l[i]) for i in range(len(l))]\n",
    "\n",
    "myEnumerate([\"a\", \"b\", \"c\"])\n",
    "\n",
    "for index, value in myEnumerate([\"a\", \"b\", \"c\"]):\n",
    "    print( index, value)"
   ]
  },
  {
   "cell_type": "markdown",
   "metadata": {},
   "source": [
    "Problem 48"
   ]
  },
  {
   "cell_type": "code",
   "execution_count": 17,
   "metadata": {},
   "outputs": [
    {
     "name": "stdout",
     "output_type": "stream",
     "text": [
      "[[None, None, None], [None, None, None], [None, None, None], [None, None, None]]\n",
      "[[5, None, None], [None, None, None], [None, None, None], [None, None, None]]\n"
     ]
    }
   ],
   "source": [
    "def array(x,y):\n",
    "    return [[None]*y for i in range(x)]\n",
    "\n",
    "a = array(4, 3)\n",
    "print(a)\n",
    "a[0][0] = 5\n",
    "print(a)"
   ]
  },
  {
   "cell_type": "markdown",
   "metadata": {},
   "source": [
    "Problem 49"
   ]
  },
  {
   "cell_type": "code",
   "execution_count": 44,
   "metadata": {},
   "outputs": [
    {
     "data": {
      "text/plain": [
       "[['a', 'b', 'c'], ['1', '2', '3'], ['2', '3', '4'], ['3', '4', '5']]"
      ]
     },
     "execution_count": 44,
     "metadata": {},
     "output_type": "execute_result"
    }
   ],
   "source": [
    "def parse_csv(f):\n",
    "    lines = open(f).readlines()\n",
    "    return [[i for i in e.strip().split(',')] for e in lines]\n",
    "\n",
    "parse_csv('a.csv')"
   ]
  },
  {
   "cell_type": "code",
   "execution_count": 45,
   "metadata": {},
   "outputs": [
    {
     "name": "stdout",
     "output_type": "stream",
     "text": [
      "a,b,c\n",
      "1,2,3\n",
      "2,3,4\n",
      "3,4,5\n",
      "\n"
     ]
    }
   ],
   "source": [
    "print (open('a.csv').read())"
   ]
  },
  {
   "cell_type": "markdown",
   "metadata": {},
   "source": [
    "Problem 50"
   ]
  },
  {
   "cell_type": "code",
   "execution_count": 42,
   "metadata": {},
   "outputs": [
    {
     "data": {
      "text/plain": [
       "[['a', 'b', 'c'], ['1', '2', '3'], ['2', '3', '4'], ['3', '4', '5']]"
      ]
     },
     "execution_count": 42,
     "metadata": {},
     "output_type": "execute_result"
    }
   ],
   "source": [
    "def parse(f,s,c):\n",
    "    lines = open(f).readlines()\n",
    "    return [ e.split(c)[0].strip().split(s) for e in lines]\n",
    "\n",
    "parse('a.txt', '!', '#')"
   ]
  },
  {
   "cell_type": "code",
   "execution_count": null,
   "metadata": {},
   "outputs": [],
   "source": []
  }
 ],
 "metadata": {
  "kernelspec": {
   "display_name": "Python 3",
   "language": "python",
   "name": "python3"
  },
  "language_info": {
   "codemirror_mode": {
    "name": "ipython",
    "version": 3
   },
   "file_extension": ".py",
   "mimetype": "text/x-python",
   "name": "python",
   "nbconvert_exporter": "python",
   "pygments_lexer": "ipython3",
   "version": "3.8.5"
  }
 },
 "nbformat": 4,
 "nbformat_minor": 4
}
