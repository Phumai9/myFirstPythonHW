{
 "cells": [
  {
   "cell_type": "markdown",
   "metadata": {},
   "source": [
    "# Python Practice book 10-20"
   ]
  },
  {
   "cell_type": "markdown",
   "metadata": {},
   "source": [
    "Phumai Boonchuaisuk, 1 oct 2020."
   ]
  },
  {
   "cell_type": "markdown",
   "metadata": {},
   "source": [
    "Problem 11"
   ]
  },
  {
   "cell_type": "code",
   "execution_count": 3,
   "metadata": {},
   "outputs": [
    {
     "name": "stdout",
     "output_type": "stream",
     "text": [
      "2 9\n"
     ]
    }
   ],
   "source": [
    "x = 2 \n",
    "def f(a): \n",
    "    x = a * a \n",
    "    return x \n",
    "y = f(3) \n",
    "print(x, y)"
   ]
  },
  {
   "cell_type": "markdown",
   "metadata": {},
   "source": [
    "Problem 12"
   ]
  },
  {
   "cell_type": "code",
   "execution_count": 75,
   "metadata": {},
   "outputs": [
    {
     "data": {
      "text/plain": [
       "1"
      ]
     },
     "execution_count": 75,
     "metadata": {},
     "output_type": "execute_result"
    }
   ],
   "source": [
    "def count_digits(n):\n",
    "    return len(str(n))\n",
    "count_digits(5)"
   ]
  },
  {
   "cell_type": "code",
   "execution_count": 72,
   "metadata": {},
   "outputs": [
    {
     "data": {
      "text/plain": [
       "5"
      ]
     },
     "execution_count": 72,
     "metadata": {},
     "output_type": "execute_result"
    }
   ],
   "source": [
    "def count_digits(n):\n",
    "    return len(str(n))\n",
    "count_digits(12345)"
   ]
  },
  {
   "cell_type": "markdown",
   "metadata": {},
   "source": [
    "Problem 13"
   ]
  },
  {
   "cell_type": "code",
   "execution_count": 55,
   "metadata": {},
   "outputs": [
    {
     "name": "stdout",
     "output_type": "stream",
     "text": [
      "True\n",
      "True\n",
      "False\n"
     ]
    }
   ],
   "source": [
    "def istrcmp(x,y):\n",
    "    if x.upper() == y.upper():\n",
    "        return True\n",
    "    else:\n",
    "        return False\n",
    "\n",
    "print (istrcmp('python', 'Python'))\n",
    "print (istrcmp('LaTeX', 'Latex'))\n",
    "print (istrcmp('a', 'b'))"
   ]
  },
  {
   "cell_type": "markdown",
   "metadata": {},
   "source": [
    "Problem 14"
   ]
  },
  {
   "cell_type": "code",
   "execution_count": 11,
   "metadata": {},
   "outputs": [
    {
     "name": "stdout",
     "output_type": "stream",
     "text": [
      "True\n",
      "True\n",
      "True\n",
      "False\n"
     ]
    }
   ],
   "source": [
    "print(2 < 3 and 3 > 1) \n",
    "print(2 < 3 or 3 > 1) \n",
    "print(2 < 3 or not 3 > 1) \n",
    "print(2 < 3 and not 3 > 1)"
   ]
  },
  {
   "cell_type": "markdown",
   "metadata": {},
   "source": [
    "Problem 15"
   ]
  },
  {
   "cell_type": "code",
   "execution_count": 12,
   "metadata": {},
   "outputs": [
    {
     "name": "stdout",
     "output_type": "stream",
     "text": [
      "True\n"
     ]
    }
   ],
   "source": [
    "x = 4 \n",
    "y = 5 \n",
    "p = x < y or x < z \n",
    "print(p)"
   ]
  },
  {
   "cell_type": "markdown",
   "metadata": {},
   "source": [
    "Problem 16"
   ]
  },
  {
   "cell_type": "code",
   "execution_count": 107,
   "metadata": {
    "scrolled": true
   },
   "outputs": [
    {
     "ename": "SyntaxError",
     "evalue": "cannot assign to True (<ipython-input-107-60dcf4ea1d12>, line 1)",
     "output_type": "error",
     "traceback": [
      "\u001b[1;36m  File \u001b[1;32m\"<ipython-input-107-60dcf4ea1d12>\"\u001b[1;36m, line \u001b[1;32m1\u001b[0m\n\u001b[1;33m    True, False = False, True\u001b[0m\n\u001b[1;37m    ^\u001b[0m\n\u001b[1;31mSyntaxError\u001b[0m\u001b[1;31m:\u001b[0m cannot assign to True\n"
     ]
    }
   ],
   "source": [
    "True, False = False, True\n",
    "print(True, False) \n",
    "print(2 < 3)"
   ]
  },
  {
   "cell_type": "code",
   "execution_count": 108,
   "metadata": {},
   "outputs": [
    {
     "name": "stdout",
     "output_type": "stream",
     "text": [
      "True False\n",
      "True\n"
     ]
    }
   ],
   "source": [
    "# Fix\n",
    "\n",
    "True, False == False, True\n",
    "print(True, False) \n",
    "print(2 < 3)"
   ]
  },
  {
   "cell_type": "markdown",
   "metadata": {},
   "source": [
    "Problem 17"
   ]
  },
  {
   "cell_type": "code",
   "execution_count": 96,
   "metadata": {
    "scrolled": true
   },
   "outputs": [
    {
     "ename": "SyntaxError",
     "evalue": "Missing parentheses in call to 'print'. Did you mean print(x)? (<ipython-input-96-f64d328b9447>, line 3)",
     "output_type": "error",
     "traceback": [
      "\u001b[1;36m  File \u001b[1;32m\"<ipython-input-96-f64d328b9447>\"\u001b[1;36m, line \u001b[1;32m3\u001b[0m\n\u001b[1;33m    print x\u001b[0m\n\u001b[1;37m          ^\u001b[0m\n\u001b[1;31mSyntaxError\u001b[0m\u001b[1;31m:\u001b[0m Missing parentheses in call to 'print'. Did you mean print(x)?\n"
     ]
    }
   ],
   "source": [
    "x = 2 \n",
    "if x == 2:\n",
    "    print x \n",
    "else: print y"
   ]
  },
  {
   "cell_type": "code",
   "execution_count": 97,
   "metadata": {},
   "outputs": [],
   "source": [
    "#ไม่ใส่วงเล็บให้ตัวเเปรในปริ้น"
   ]
  },
  {
   "cell_type": "code",
   "execution_count": 89,
   "metadata": {},
   "outputs": [
    {
     "name": "stdout",
     "output_type": "stream",
     "text": [
      "2\n"
     ]
    }
   ],
   "source": [
    "# Fix\n",
    "\n",
    "x = 2 \n",
    "if x == 2: \n",
    "    print(x) \n",
    "else: \n",
    "    print(y)"
   ]
  },
  {
   "cell_type": "markdown",
   "metadata": {},
   "source": [
    "Problem 18"
   ]
  },
  {
   "cell_type": "code",
   "execution_count": 98,
   "metadata": {
    "scrolled": true
   },
   "outputs": [
    {
     "ename": "SyntaxError",
     "evalue": "invalid syntax (<ipython-input-98-fb55a3368bba>, line 5)",
     "output_type": "error",
     "traceback": [
      "\u001b[1;36m  File \u001b[1;32m\"<ipython-input-98-fb55a3368bba>\"\u001b[1;36m, line \u001b[1;32m5\u001b[0m\n\u001b[1;33m    x +\u001b[0m\n\u001b[1;37m       ^\u001b[0m\n\u001b[1;31mSyntaxError\u001b[0m\u001b[1;31m:\u001b[0m invalid syntax\n"
     ]
    }
   ],
   "source": [
    "x = 2 \n",
    "if x == 2: \n",
    "    print(x) \n",
    "else: \n",
    "        x +"
   ]
  },
  {
   "cell_type": "code",
   "execution_count": 104,
   "metadata": {},
   "outputs": [],
   "source": [
    "#ไม่ใส่วงเล็บเเละต้องใส่ตัวเเปรหลังตัวบวก"
   ]
  },
  {
   "cell_type": "code",
   "execution_count": 102,
   "metadata": {},
   "outputs": [
    {
     "name": "stdout",
     "output_type": "stream",
     "text": [
      "2\n"
     ]
    }
   ],
   "source": [
    "# Fix\n",
    "\n",
    "x = 2 \n",
    "if x == 2: \n",
    "    print(x) \n",
    "else:\n",
    "        print(x +x)"
   ]
  },
  {
   "cell_type": "markdown",
   "metadata": {},
   "source": [
    "Problem 19"
   ]
  },
  {
   "cell_type": "code",
   "execution_count": 5,
   "metadata": {
    "scrolled": true
   },
   "outputs": [
    {
     "name": "stdout",
     "output_type": "stream",
     "text": [
      "python add.py3 5\n",
      "8\n"
     ]
    }
   ],
   "source": [
    "a ,b = [int (e) for e in input(\"python add.py\").split()]\n",
    "x = a + b\n",
    "print(x)"
   ]
  },
  {
   "cell_type": "code",
   "execution_count": 7,
   "metadata": {},
   "outputs": [
    {
     "name": "stdout",
     "output_type": "stream",
     "text": [
      "python add.py2 9\n",
      "11\n"
     ]
    }
   ],
   "source": [
    "a ,b = [int (e) for e in input(\"python add.py\").split()]\n",
    "x = a + b\n",
    "print(x)"
   ]
  },
  {
   "cell_type": "markdown",
   "metadata": {},
   "source": [
    " Problem 20"
   ]
  },
  {
   "cell_type": "code",
   "execution_count": 21,
   "metadata": {},
   "outputs": [
    {
     "name": "stdout",
     "output_type": "stream",
     "text": [
      "[0, 1, [3]]\n",
      "[0, 1, [3, 4]]\n",
      "[0, 1, 2]\n"
     ]
    }
   ],
   "source": [
    "x = [0, 1, [2]] \n",
    "x[2][0] = 3 \n",
    "print(x) \n",
    "x[2].append(4) \n",
    "print(x) \n",
    "x[2] = 2 \n",
    "print(x)"
   ]
  },
  {
   "cell_type": "code",
   "execution_count": null,
   "metadata": {},
   "outputs": [],
   "source": []
  }
 ],
 "metadata": {
  "kernelspec": {
   "display_name": "Python 3",
   "language": "python",
   "name": "python3"
  },
  "language_info": {
   "codemirror_mode": {
    "name": "ipython",
    "version": 3
   },
   "file_extension": ".py",
   "mimetype": "text/x-python",
   "name": "python",
   "nbconvert_exporter": "python",
   "pygments_lexer": "ipython3",
   "version": "3.8.5"
  }
 },
 "nbformat": 4,
 "nbformat_minor": 4
}
