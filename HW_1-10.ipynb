{
 "cells": [
  {
   "cell_type": "markdown",
   "metadata": {},
   "source": [
    "Problem 1 : Given a two list.Create a third list by picking an odd-index element from the frist list and even index element form second."
   ]
  },
  {
   "cell_type": "code",
   "execution_count": 20,
   "metadata": {},
   "outputs": [],
   "source": [
    "listOne = [3 ,6,9,12,15,18,21]\n",
    "listTwo = [4,8,12,16,20,24,28]"
   ]
  },
  {
   "cell_type": "code",
   "execution_count": 238,
   "metadata": {},
   "outputs": [
    {
     "name": "stdout",
     "output_type": "stream",
     "text": [
      "[6, 12, 18]\n"
     ]
    }
   ],
   "source": [
    "print(listOne[1:6:2])"
   ]
  },
  {
   "cell_type": "code",
   "execution_count": 239,
   "metadata": {},
   "outputs": [
    {
     "name": "stdout",
     "output_type": "stream",
     "text": [
      "[4, 12, 20, 28]\n"
     ]
    }
   ],
   "source": [
    "print(listTwo[0:8:2])"
   ]
  },
  {
   "cell_type": "code",
   "execution_count": 35,
   "metadata": {},
   "outputs": [
    {
     "name": "stdout",
     "output_type": "stream",
     "text": [
      "[6, 12, 18, 4, 12, 20, 28]\n"
     ]
    }
   ],
   "source": [
    "print(listOne[1:6:2]+listTwo[0:8:2])"
   ]
  },
  {
   "cell_type": "markdown",
   "metadata": {},
   "source": [
    "Problem 2 : Given an input list removes the element at index 4 and add it to the 2nd position and also ,at the end of the list"
   ]
  },
  {
   "cell_type": "code",
   "execution_count": 241,
   "metadata": {},
   "outputs": [],
   "source": [
    "#List = [54,44,27,79,91,42]"
   ]
  },
  {
   "cell_type": "code",
   "execution_count": 39,
   "metadata": {},
   "outputs": [
    {
     "name": "stdout",
     "output_type": "stream",
     "text": [
      "[34, 54, 11, 67, 89, 43, 94, 11]\n"
     ]
    }
   ],
   "source": [
    "Originals_list = [34,54,67,89,11,43,94]\n",
    "Originals_list.pop(4)\n",
    "Originals_list.insert(2,11)\n",
    "Originals_list.append(11)\n",
    "print(Originals_list)"
   ]
  },
  {
   "cell_type": "markdown",
   "metadata": {},
   "source": [
    "Problem 3 : Given a list slice It into a 3 equal chunks and reverse each list"
   ]
  },
  {
   "cell_type": "code",
   "execution_count": 211,
   "metadata": {},
   "outputs": [
    {
     "name": "stdout",
     "output_type": "stream",
     "text": [
      "[8, 45, 11]\n",
      "[12, 14, 23]\n",
      "[89, 45, 78]\n"
     ]
    }
   ],
   "source": [
    "Originals_list1 = [11,45,8,23,14,12,78,45,89]\n",
    "x = Originals_list1[0:3]\n",
    "x.reverse()\n",
    "print(x)\n",
    "z = Originals_list1[3:6]\n",
    "z.reverse()\n",
    "print(z)\n",
    "k = Originals_list1[6:9]\n",
    "k.reverse()\n",
    "print(k)"
   ]
  },
  {
   "cell_type": "markdown",
   "metadata": {},
   "source": [
    "Problem 4 : Given a list iterate it and count the occurrence of each element and create a dictionary to show the count of each element"
   ]
  },
  {
   "cell_type": "code",
   "execution_count": 119,
   "metadata": {},
   "outputs": [
    {
     "name": "stdout",
     "output_type": "stream",
     "text": [
      "11 มีทั้งหมด \n",
      " > 2  ตัว \n",
      "45 มีทั้งหมด \n",
      " > 3  ตัว \n",
      "8  มีทั้งหมด \n",
      " > 1  ตัว \n",
      "23 มีทั้งหมด \n",
      " > 2  ตัว \n",
      "89 มีทั้งหมด \n",
      " > 1  ตัว \n"
     ]
    }
   ],
   "source": [
    "Originals_list2 = [11,45,8,11,23,45,23,45,89]\n",
    "z = Originals_list2.count(11)\n",
    "print(\"11 มีทั้งหมด \\n >\",z,\" ตัว \")\n",
    "x = Originals_list2.count(45)\n",
    "print(\"45 มีทั้งหมด \\n >\",x,\" ตัว \")\n",
    "a = Originals_list2.count(8)\n",
    "print(\"8  มีทั้งหมด \\n >\",a,\" ตัว \")\n",
    "b = Originals_list2.count(23)\n",
    "print(\"23 มีทั้งหมด \\n >\",b,\" ตัว \")\n",
    "d = Originals_list2.count(89)\n",
    "print(\"89 มีทั้งหมด \\n >\",d,\" ตัว \")"
   ]
  },
  {
   "cell_type": "code",
   "execution_count": 123,
   "metadata": {},
   "outputs": [
    {
     "name": "stdout",
     "output_type": "stream",
     "text": [
      "{'11': 2, '45': 3, '8': 1, '23': 2, '89': 1}\n"
     ]
    }
   ],
   "source": [
    "dict_a = {\n",
    "    \"11\" : z,\n",
    "    \"45\" : x,\n",
    "    \"8\" : a,\n",
    "    \"23\" : b,\n",
    "    \"89\" : d\n",
    "}\n",
    "print(dict_a)"
   ]
  },
  {
   "cell_type": "markdown",
   "metadata": {},
   "source": [
    "Problem 5 : Given a list of equal size create a set such that it shows the element from both the first set"
   ]
  },
  {
   "cell_type": "code",
   "execution_count": 30,
   "metadata": {},
   "outputs": [
    {
     "name": "stdout",
     "output_type": "stream",
     "text": [
      "[2, 3, 4, 5, 6, 7, 8]\n",
      "[4, 9, 16, 25, 36, 49, 64]\n",
      "{(6, 36), (5, 25), (4, 16), (7, 49), (3, 9), (2, 4), (8, 64)}\n"
     ]
    }
   ],
   "source": [
    "First_List = ([2,3,4,5,6,7,8])\n",
    "Second_List = ([4,9,16,25,36,49,64])\n",
    "Result = {(6,36),(8,64),(4,16),(5,25),(3,9),(7,49),(2,4),}\n",
    "print(First_List)\n",
    "print(Second_List)\n",
    "print(Result)"
   ]
  },
  {
   "cell_type": "code",
   "execution_count": 3,
   "metadata": {},
   "outputs": [
    {
     "name": "stdout",
     "output_type": "stream",
     "text": [
      "{(6, 36), (5, 25), (4, 16), (7, 49), (3, 9), (2, 4), (8, 64)}\n"
     ]
    }
   ],
   "source": [
    "First_List = ([2,3,4,5,6,7,8])\n",
    "Second_List = ([4,9,16,25,36,49,64])\n",
    "Result = zip(First_List, Second_List)\n",
    "Result_Set = set(Result)\n",
    "print(Result_Set)"
   ]
  },
  {
   "cell_type": "markdown",
   "metadata": {},
   "source": [
    "Problem 6  : Given a following two sets find the intersection and remove those elements from the first set"
   ]
  },
  {
   "cell_type": "code",
   "execution_count": 196,
   "metadata": {},
   "outputs": [
    {
     "name": "stdout",
     "output_type": "stream",
     "text": [
      "{57, 83, 29}\n"
     ]
    }
   ],
   "source": [
    "First_set = {65,42,78,83,23,57,29}\n",
    "Second_set = {67,73,43,48,83,57,29}\n",
    "print(First_set.intersection(Second_set))"
   ]
  },
  {
   "cell_type": "code",
   "execution_count": 195,
   "metadata": {},
   "outputs": [
    {
     "name": "stdout",
     "output_type": "stream",
     "text": [
      "{65, 42, 78, 23, 57, 29}\n"
     ]
    }
   ],
   "source": [
    "First_set.remove(83)\n",
    "print(First_set)"
   ]
  },
  {
   "cell_type": "markdown",
   "metadata": {},
   "source": [
    "Problem 7 : Given two sets,Checks if One Set is Subset or superset or superset of Another Set .if the subset is found delete all element from that set"
   ]
  },
  {
   "cell_type": "code",
   "execution_count": 240,
   "metadata": {},
   "outputs": [],
   "source": [
    "#FirstSet = {27,43,34}\n",
    "#seconSet = {34,93,22,27,43,53,48}"
   ]
  },
  {
   "cell_type": "code",
   "execution_count": 213,
   "metadata": {},
   "outputs": [
    {
     "name": "stdout",
     "output_type": "stream",
     "text": [
      "True\n"
     ]
    }
   ],
   "source": [
    "Firstset = {57,83,29}\n",
    "Secondset = {67,73,43,48,83,57,29}\n",
    "print(Firstset.issubset(Secondset))"
   ]
  },
  {
   "cell_type": "code",
   "execution_count": 214,
   "metadata": {},
   "outputs": [
    {
     "name": "stdout",
     "output_type": "stream",
     "text": [
      "False\n"
     ]
    }
   ],
   "source": [
    "Firstset = {57,83,29}\n",
    "Secondset = {67,73,43,48,83,57,29}\n",
    "print(Secondset.issubset(Firstset))"
   ]
  },
  {
   "cell_type": "code",
   "execution_count": 218,
   "metadata": {},
   "outputs": [
    {
     "name": "stdout",
     "output_type": "stream",
     "text": [
      "False\n"
     ]
    }
   ],
   "source": [
    "Firstset = {57,83,29}\n",
    "Secondset = {67,73,43,48,83,57,29}\n",
    "print(Firstset1.issuperset(Secondset1))"
   ]
  },
  {
   "cell_type": "code",
   "execution_count": 217,
   "metadata": {
    "scrolled": true
   },
   "outputs": [
    {
     "name": "stdout",
     "output_type": "stream",
     "text": [
      "True\n"
     ]
    }
   ],
   "source": [
    "Firstset = {57,83,29}\n",
    "Secondset = {67,73,43,48,83,57,29}\n",
    "print(Secondset1.issuperset(Firstset1))"
   ]
  },
  {
   "cell_type": "markdown",
   "metadata": {},
   "source": [
    "Problem 8 : Iterate a given list and Check if a given elemant already in a dictionary as a key's value if not delete it from the list"
   ]
  },
  {
   "cell_type": "code",
   "execution_count": 9,
   "metadata": {},
   "outputs": [
    {
     "name": "stdout",
     "output_type": "stream",
     "text": [
      "[47, 69, 76, 97]\n"
     ]
    }
   ],
   "source": [
    "rollNumber = [47 ,64 ,69 ,37 ,76 ,83 ,95 ,97]\n",
    "sampleDict = {\"Jhon\": 47,\"Emma\": 69,\"Kelly\": 76,\"Jason\": 97}\n",
    "sampleDict_1 = sampleDict.values()\n",
    "List = []\n",
    "for item in rollNumber:\n",
    "    if (item in sampleDict_1 ):\n",
    "        List.append(item)\n",
    "print(List)   "
   ]
  },
  {
   "cell_type": "markdown",
   "metadata": {},
   "source": [
    "Problem 9 : Given a dictionary get all values from the dictionary and add it in a list but don't add duplicates"
   ]
  },
  {
   "cell_type": "code",
   "execution_count": 10,
   "metadata": {},
   "outputs": [
    {
     "name": "stdout",
     "output_type": "stream",
     "text": [
      "[47, 52, 44, 53, 54]\n"
     ]
    }
   ],
   "source": [
    "speed = {'jan': 47,'feb': 52,'march': 47,'April': 44,'May': 52,'June': 53,'july': 54,'Aug': 44,'Sept': 54}\n",
    "index = speed.values()\n",
    "List = []\n",
    "for i in index :\n",
    "    if i not in List :\n",
    "        List.append(i)\n",
    "print(List)"
   ]
  },
  {
   "cell_type": "markdown",
   "metadata": {},
   "source": [
    "Problem 10 : Remove duplicate from a list and create a tuple and find the minimum and maximum number"
   ]
  },
  {
   "cell_type": "code",
   "execution_count": 28,
   "metadata": {},
   "outputs": [
    {
     "name": "stdout",
     "output_type": "stream",
     "text": [
      "SampleList \n",
      " >  [87, 45, 41, 65, 94, 41, 99, 94]\n",
      "Unique items \n",
      " >  [87, 45, 41, 65, 94, 99]\n",
      "Tuple \n",
      " >  (87, 45, 41, 65, 94, 99)\n",
      "Min \n",
      " >  41\n",
      "Max \n",
      " >  99\n"
     ]
    }
   ],
   "source": [
    "sampleList = [87 ,45 ,41 ,65 ,94 ,41 ,99 ,94]\n",
    "print(\"SampleList \\n > \",sampleList)\n",
    "List = []\n",
    "for i in sampleList :\n",
    "    if i not in List :\n",
    "        List.append(i)\n",
    "sampleList = List\n",
    "print(\"Unique items \\n > \",sampleList)\n",
    "print(\"Tuple \\n > \",tuple(sampleList))\n",
    "print(\"Min \\n > \",min(sampleList))\n",
    "print('Max \\n > ',max(sampleList))"
   ]
  },
  {
   "cell_type": "code",
   "execution_count": null,
   "metadata": {},
   "outputs": [],
   "source": []
  }
 ],
 "metadata": {
  "kernelspec": {
   "display_name": "Python 3",
   "language": "python",
   "name": "python3"
  },
  "language_info": {
   "codemirror_mode": {
    "name": "ipython",
    "version": 3
   },
   "file_extension": ".py",
   "mimetype": "text/x-python",
   "name": "python",
   "nbconvert_exporter": "python",
   "pygments_lexer": "ipython3",
   "version": "3.8.5"
  }
 },
 "nbformat": 4,
 "nbformat_minor": 4
}
